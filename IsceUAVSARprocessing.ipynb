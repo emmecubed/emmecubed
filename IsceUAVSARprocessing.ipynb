{
 "cells": [
  {
   "cell_type": "markdown",
   "metadata": {},
   "source": [
    "# ISCE UAVSAR PROCESSING #\n",
    "In this notebook we go over the steps of downloading and processing UAVSAR data from SLC coregistered stacks.\n",
    "\n",
    "    We first start with the data download. \n",
    "    Go to the link https://uavsar.jpl.nasa.gov/cgi-bin/data.pl\n",
    "    Create an account and login.  \n",
    "    \n",
    " <p align=\"left\">\n",
    "  <img width=\"600\" src=\"img/datadownload.png\">\n",
    "</p>     \n",
    "<p style=\"text-align: center;\">\n",
    "    (Data download screen)\n",
    "</p>\n",
    "    \n",
    "    Enter a description and select prodict type. In this example we will use SLC stack.\n",
    "    \n",
    " <p align=\"left\">\n",
    "  <img width=\"600\" src=\"img/search1.png\">\n",
    "</p>     \n",
    "<p style=\"text-align: center;\">\n",
    "    (Data search1)\n",
    "</p>\n",
    "    \n",
    "    Results will display on the map as well as in list form (right side). \n",
    "    \n",
    " <p align=\"left\">\n",
    "  <img width=\"600\" src=\"img/search2.png\">\n",
    "</p>     \n",
    "<p style=\"text-align: center;\">\n",
    "    (Data search2)\n",
    "</p>\n",
    "\n",
    "    Select the flight path of interest and click view to see more details and access download links.\n",
    "    \n",
    " <p align=\"left\">\n",
    "  <img width=\"600\" src=\"img/search3.png\">\n",
    "</p>     \n",
    "<p style=\"text-align: center;\">\n",
    "    (Data search3)\n",
    "</p>\n",
    "\n",
    "    The next window will show product information details as well as download options and links. \n",
    "\n",
    "<p align=\"left\">\n",
    "  <img width=\"600\" src=\"img/search4.png\">\n",
    "</p>     \n",
    "<p style=\"text-align: center;\">\n",
    "    (Data search3)\n",
    "</p>\n",
    "   \n",
    "    There's three main steps for product download. 1. Pixel spacing selection, 2. Plarization selection, 3. segment selection and 4. download links. For this example we will use 1x1 pixel spacing, HH polarization and select 3 segments. \n",
    "    \n",
    "<p align=\"left\">\n",
    "  <img width=\"600\" src=\"img/download1.png\">\n",
    "</p>     \n",
    "<p style=\"text-align: center;\">\n",
    "    (Data search3)\n",
    "</p>\n",
    "\n",
    "    We will use wget to download our selected segments. Copy the list of links from step 4 into a .sh file.\n",
    "\n",
    "<p align=\"left\">\n",
    "  <img width=\"600\" src=\"img/download2.png\">\n",
    "</p>     \n",
    "<p style=\"text-align: center;\">\n",
    "    (Data search3)\n",
    "</p>    \n",
    "    "
   ]
  },
  {
   "cell_type": "markdown",
   "metadata": {},
   "source": [
    "# Notebook initial setup #\n",
    "Copy the python scripts provided in https://github.com/taliboliver/Isce_UAVSAR to the stripmapstack folder from isce.\n",
    "    \n",
    "    prepareUAVSAR_coregStackTOmodifV2.py\n",
    "    unpackFrame_UAVSARTOmodif.py\n",
    "    crossmul_uavsar.py"
   ]
  },
  {
   "cell_type": "code",
   "execution_count": null,
   "metadata": {},
   "outputs": [],
   "source": [
    "#/usr/local/opt/isce/share/stripmapStack"
   ]
  },
  {
   "cell_type": "markdown",
   "metadata": {},
   "source": [
    "# Download segments #\n",
    "In the home directory, create a folder named download (mkdir download). Then copy and paste the links into a .sh file and run the command as shown below. Run the sh in the download folder (for this example our .sh file name is links.sh)."
   ]
  },
  {
   "cell_type": "code",
   "execution_count": 1,
   "metadata": {},
   "outputs": [
    {
     "name": "stdout",
     "output_type": "stream",
     "text": [
      "gulfco_12011_01_BC.dop        gulfco_12011_01_BC_s1_2x8.llh\r\n",
      "gulfco_12011_01_BC_s1_2x8.lkv links.sh\r\n"
     ]
    }
   ],
   "source": [
    "!ls download/                      #check downloaded files "
   ]
  },
  {
   "cell_type": "markdown",
   "metadata": {},
   "source": [
    "# Prepare SLC's #\n",
    "Now we prepare the SLC's for isce processing. The following command prepares the data and metadata into SLC folders named using the convention yyyymmddThhmm (year/month/day/T/hour/mins). We first use the command -h to see the usage instructions. "
   ]
  },
  {
   "cell_type": "code",
   "execution_count": 2,
   "metadata": {},
   "outputs": [
    {
     "name": "stdout",
     "output_type": "stream",
     "text": [
      "This is the Open Source version of ISCE.\n",
      "Some of the workflows depend on a separate licensed package.\n",
      "To obtain the licensed package, please make a request for ISCE\n",
      "through the website: https://download.jpl.nasa.gov/ops/request/index.cfm.\n",
      "Alternatively, if you are a member, or can become a member of WinSAR\n",
      "you may be able to obtain access to a version of the licensed sofware at\n",
      "https://winsar.unavco.org/software/isce\n",
      "usage: prepareUAVSAR_coregStackTOmodifV2.py [-h] -i INPUT -d DOPFILE -o OUTPUT\n",
      "                                            [-t TEXT_CMD]\n",
      "\n",
      "Unzip Alos zip files.\n",
      "\n",
      "optional arguments:\n",
      "  -h, --help            show this help message and exit\n",
      "  -i INPUT, --input INPUT\n",
      "                        directory which has all dates as directories. Inside\n",
      "                        each date, zip files are expected.\n",
      "  -d DOPFILE, --dop_file DOPFILE\n",
      "                        Doppler file for the stack.\n",
      "  -o OUTPUT, --output OUTPUT\n",
      "                        output directory which will be used for unpacking.\n",
      "  -t TEXT_CMD, --text_cmd TEXT_CMD\n",
      "                        text command to be added to the beginning of each line\n",
      "                        of the run files. Example : source ~/.bash_profile;\n"
     ]
    }
   ],
   "source": [
    "!prepareUAVSAR_coregStackTOmodifV2.py -h"
   ]
  },
  {
   "cell_type": "markdown",
   "metadata": {},
   "source": [
    "We now run the command following the specifications above. we most define download folder, doppler file and output folder. **important note** make sure to copy the dopler file (.dop) to the home processing folder as well."
   ]
  },
  {
   "cell_type": "code",
   "execution_count": 11,
   "metadata": {},
   "outputs": [
    {
     "name": "stdout",
     "output_type": "stream",
     "text": [
      "IsceUAVSARprocessing.ipynb gulfco_12011_01_BC.dop\r\n",
      "\u001b[34mdownload\u001b[m\u001b[m                   \u001b[34mimg\u001b[m\u001b[m\r\n"
     ]
    }
   ],
   "source": [
    "!cp download/*.dop .\n",
    "!ls "
   ]
  },
  {
   "cell_type": "code",
   "execution_count": 13,
   "metadata": {},
   "outputs": [
    {
     "name": "stdout",
     "output_type": "stream",
     "text": [
      "This is the Open Source version of ISCE.\n",
      "Some of the workflows depend on a separate licensed package.\n",
      "To obtain the licensed package, please make a request for ISCE\n",
      "through the website: https://download.jpl.nasa.gov/ops/request/index.cfm.\n",
      "Alternatively, if you are a member, or can become a member of WinSAR\n",
      "you may be able to obtain access to a version of the licensed sofware at\n",
      "https://winsar.unavco.org/software/isce\n",
      "['download/gulfco_12011_16089_001_161016_L090HH_01_BC_s1_1x1.slc', 'download/gulfco_12011_16090_011_161017_L090HH_01_BC_s1_1x1.slc', 'download/gulfco_12011_16089_011_161016_L090HH_01_BC_s1_1x1.slc']\n",
      "download/gulfco_12011_16089_001_161016_L090HH_01_BC.ann\n",
      "20161016T1408\n",
      "download/gulfco_12011_16089_001_161016_L090HH_01_BC.ann\n",
      "/Users/cabrera/Documents/Projects/Deltax/Notebooks/SLC/20161016T1408\n",
      "/Users/cabrera/Software/isce2/contrib/stack/stripmapStack/unpackFrame_UAVSARTOmodif.py -i download/gulfco_12011_16089_001_161016_L090HH_01_BC.ann -d gulfco_12011_01_BC.dop -o /Users/cabrera/Documents/Projects/Deltax/Notebooks/SLC/20161016T1408\n",
      "This is the Open Source version of ISCE.\n",
      "Some of the workflows depend on a separate licensed package.\n",
      "To obtain the licensed package, please make a request for ISCE\n",
      "through the website: https://download.jpl.nasa.gov/ops/request/index.cfm.\n",
      "Alternatively, if you are a member, or can become a member of WinSAR\n",
      "you may be able to obtain access to a version of the licensed sofware at\n",
      "https://winsar.unavco.org/software/isce\n",
      "UnknownUnitWarning: (1.0) \n",
      "UnknownUnitWarning: (1.0) \n",
      "UnknownUnitWarning: (1.0) \n",
      "2019-11-12 12:29:34,203 - isce.Sensor.UAVSAR_Stack - INFO - extractDoppler: rho0, drho, prf = 13450.8804, 1.66551366, 418.6275670305205\n",
      "2019-11-12 12:29:34,223 - isce.Sensor.UAVSAR_Stack - INFO - coeffs = [ 2.14167419e-01 -4.33842166e-05 -1.20390157e-08  4.35957723e-12\n",
      " -6.53096676e-16  4.79937040e-20 -1.39493201e-24]\n",
      "2019-11-12 12:29:34,223 - isce.Sensor.UAVSAR_Stack - INFO - rms residual = [0.00023041]\n",
      "2019-11-12 12:29:34,272 - isce.Sensor.UAVSAR_Stack - INFO - UAVSAR_Stack.extractDoppler: self.dopplerVals = {'Near': 0.2141674191600157}\n",
      "2019-11-12 12:29:34,272 - isce.Sensor.UAVSAR_Stack - INFO - UAVSAR_Stack.extractDoppler: prf = 418.6275670305205\n",
      "2019-11-12 12:29:34,275 - isce.Sensor.UAVSAR_Stack - INFO - UAVSAR_Stack: peg radius of curvature = 6375150.236995186\n",
      "2019-11-12 12:29:34,275 - isce.Sensor.UAVSAR_Stack - INFO - UAVSAR_Stack: terrain height = -24.9680101\n",
      "2019-11-12 12:29:34,276 - isce.Sensor.UAVSAR_Stack - INFO - key = Segment 1 Data Approximate Corner 1\n",
      "2019-11-12 12:29:34,276 - isce.Sensor.UAVSAR_Stack - INFO - metadata[key] = 29.583322525, -91.622039795\n",
      "2019-11-12 12:29:34,276 - isce.Sensor.UAVSAR_Stack - INFO - key = Segment 1 Data Approximate Corner 2\n",
      "2019-11-12 12:29:34,276 - isce.Sensor.UAVSAR_Stack - INFO - metadata[key] = 29.758239746, -91.509025574\n",
      "2019-11-12 12:29:34,276 - isce.Sensor.UAVSAR_Stack - INFO - key = Segment 1 Data Approximate Corner 3\n",
      "2019-11-12 12:29:34,276 - isce.Sensor.UAVSAR_Stack - INFO - metadata[key] = 29.356187820, -91.171157837\n",
      "2019-11-12 12:29:34,276 - isce.Sensor.UAVSAR_Stack - INFO - key = Segment 1 Data Approximate Corner 4\n",
      "2019-11-12 12:29:34,276 - isce.Sensor.UAVSAR_Stack - INFO - metadata[key] = 29.530677795, -91.057655334\n",
      "mv download/gulfco_12011_16089_001_161016_L090HH_01_BC_s1_1x1.slc /Users/cabrera/Documents/Projects/Deltax/Notebooks/SLC/20161016T1408\n",
      "mv download/gulfco_12011_16089_001_161016_L090HH_01_BC.ann /Users/cabrera/Documents/Projects/Deltax/Notebooks/SLC/20161016T1408\n",
      "Sensing Start Time: (2016-10-16 14:08:16)\n",
      "Sensing Mid Time: (2016-10-16 14:10:17)\n",
      "Sensing Stop Time: (2016-10-16 14:12:18)\n",
      "Orbit Number: (None)\n",
      "Frame Number: (1)\n",
      "Track Number: (1)\n",
      "Number of Lines: (84111)\n",
      "Number of Samples: (9900)\n",
      "Starting Range: (13450.8804)\n",
      "Polarization: (HH)\n",
      "Processing Facility: (None)\n",
      "Processing Software: (None)\n",
      "Processing Software Version: (None)\n",
      "\n",
      "9900 84111\n",
      "download/gulfco_12011_16090_011_161017_L090HH_01_BC.ann\n",
      "20161017T2151\n",
      "download/gulfco_12011_16090_011_161017_L090HH_01_BC.ann\n",
      "/Users/cabrera/Documents/Projects/Deltax/Notebooks/SLC/20161017T2151\n",
      "/Users/cabrera/Software/isce2/contrib/stack/stripmapStack/unpackFrame_UAVSARTOmodif.py -i download/gulfco_12011_16090_011_161017_L090HH_01_BC.ann -d gulfco_12011_01_BC.dop -o /Users/cabrera/Documents/Projects/Deltax/Notebooks/SLC/20161017T2151\n",
      "This is the Open Source version of ISCE.\n",
      "Some of the workflows depend on a separate licensed package.\n",
      "To obtain the licensed package, please make a request for ISCE\n",
      "through the website: https://download.jpl.nasa.gov/ops/request/index.cfm.\n",
      "Alternatively, if you are a member, or can become a member of WinSAR\n",
      "you may be able to obtain access to a version of the licensed sofware at\n",
      "https://winsar.unavco.org/software/isce\n",
      "UnknownUnitWarning: (1.0) \n",
      "UnknownUnitWarning: (1.0) \n",
      "UnknownUnitWarning: (1.0) \n",
      "2019-11-12 12:29:34,775 - isce.Sensor.UAVSAR_Stack - INFO - extractDoppler: rho0, drho, prf = 13450.8804, 1.66551366, 418.6275670305205\n",
      "2019-11-12 12:29:34,789 - isce.Sensor.UAVSAR_Stack - INFO - coeffs = [ 2.14167419e-01 -4.33842166e-05 -1.20390157e-08  4.35957723e-12\n",
      " -6.53096676e-16  4.79937040e-20 -1.39493201e-24]\n",
      "2019-11-12 12:29:34,789 - isce.Sensor.UAVSAR_Stack - INFO - rms residual = [0.00023041]\n",
      "2019-11-12 12:29:34,843 - isce.Sensor.UAVSAR_Stack - INFO - UAVSAR_Stack.extractDoppler: self.dopplerVals = {'Near': 0.2141674191600157}\n",
      "2019-11-12 12:29:34,843 - isce.Sensor.UAVSAR_Stack - INFO - UAVSAR_Stack.extractDoppler: prf = 418.6275670305205\n",
      "2019-11-12 12:29:34,844 - isce.Sensor.UAVSAR_Stack - INFO - UAVSAR_Stack: peg radius of curvature = 6375150.236995186\n",
      "2019-11-12 12:29:34,844 - isce.Sensor.UAVSAR_Stack - INFO - UAVSAR_Stack: terrain height = -24.9680101\n",
      "2019-11-12 12:29:34,845 - isce.Sensor.UAVSAR_Stack - INFO - key = Segment 1 Data Approximate Corner 1\n",
      "2019-11-12 12:29:34,845 - isce.Sensor.UAVSAR_Stack - INFO - metadata[key] = 29.583322525, -91.622039795\n",
      "2019-11-12 12:29:34,845 - isce.Sensor.UAVSAR_Stack - INFO - key = Segment 1 Data Approximate Corner 2\n",
      "2019-11-12 12:29:34,845 - isce.Sensor.UAVSAR_Stack - INFO - metadata[key] = 29.758239746, -91.509025574\n",
      "2019-11-12 12:29:34,845 - isce.Sensor.UAVSAR_Stack - INFO - key = Segment 1 Data Approximate Corner 3\n",
      "2019-11-12 12:29:34,845 - isce.Sensor.UAVSAR_Stack - INFO - metadata[key] = 29.356187820, -91.171157837\n",
      "2019-11-12 12:29:34,845 - isce.Sensor.UAVSAR_Stack - INFO - key = Segment 1 Data Approximate Corner 4\n",
      "2019-11-12 12:29:34,845 - isce.Sensor.UAVSAR_Stack - INFO - metadata[key] = 29.530677795, -91.057655334\n",
      "mv download/gulfco_12011_16090_011_161017_L090HH_01_BC_s1_1x1.slc /Users/cabrera/Documents/Projects/Deltax/Notebooks/SLC/20161017T2151\n",
      "mv download/gulfco_12011_16090_011_161017_L090HH_01_BC.ann /Users/cabrera/Documents/Projects/Deltax/Notebooks/SLC/20161017T2151\n",
      "Sensing Start Time: (2016-10-17 21:51:15)\n",
      "Sensing Mid Time: (2016-10-17 21:53:19)\n",
      "Sensing Stop Time: (2016-10-17 21:55:23)\n",
      "Orbit Number: (None)\n",
      "Frame Number: (1)\n",
      "Track Number: (1)\n",
      "Number of Lines: (84111)\n",
      "Number of Samples: (9900)\n",
      "Starting Range: (13450.8804)\n",
      "Polarization: (HH)\n",
      "Processing Facility: (None)\n",
      "Processing Software: (None)\n",
      "Processing Software Version: (None)\n",
      "\n",
      "9900 84111\n",
      "download/gulfco_12011_16089_011_161016_L090HH_01_BC.ann\n",
      "20161016T1637\n",
      "download/gulfco_12011_16089_011_161016_L090HH_01_BC.ann\n",
      "/Users/cabrera/Documents/Projects/Deltax/Notebooks/SLC/20161016T1637\n",
      "/Users/cabrera/Software/isce2/contrib/stack/stripmapStack/unpackFrame_UAVSARTOmodif.py -i download/gulfco_12011_16089_011_161016_L090HH_01_BC.ann -d gulfco_12011_01_BC.dop -o /Users/cabrera/Documents/Projects/Deltax/Notebooks/SLC/20161016T1637\n",
      "This is the Open Source version of ISCE.\n",
      "Some of the workflows depend on a separate licensed package.\n",
      "To obtain the licensed package, please make a request for ISCE\n",
      "through the website: https://download.jpl.nasa.gov/ops/request/index.cfm.\n",
      "Alternatively, if you are a member, or can become a member of WinSAR\n",
      "you may be able to obtain access to a version of the licensed sofware at\n",
      "https://winsar.unavco.org/software/isce\n",
      "UnknownUnitWarning: (1.0) \n",
      "UnknownUnitWarning: (1.0) \n",
      "UnknownUnitWarning: (1.0) \n",
      "2019-11-12 12:29:35,175 - isce.Sensor.UAVSAR_Stack - INFO - extractDoppler: rho0, drho, prf = 13450.8804, 1.66551366, 418.6275670305205\n"
     ]
    },
    {
     "name": "stdout",
     "output_type": "stream",
     "text": [
      "2019-11-12 12:29:35,188 - isce.Sensor.UAVSAR_Stack - INFO - coeffs = [ 2.14167419e-01 -4.33842166e-05 -1.20390157e-08  4.35957723e-12\n",
      " -6.53096676e-16  4.79937040e-20 -1.39493201e-24]\n",
      "2019-11-12 12:29:35,189 - isce.Sensor.UAVSAR_Stack - INFO - rms residual = [0.00023041]\n",
      "2019-11-12 12:29:35,239 - isce.Sensor.UAVSAR_Stack - INFO - UAVSAR_Stack.extractDoppler: self.dopplerVals = {'Near': 0.2141674191600157}\n",
      "2019-11-12 12:29:35,239 - isce.Sensor.UAVSAR_Stack - INFO - UAVSAR_Stack.extractDoppler: prf = 418.6275670305205\n",
      "2019-11-12 12:29:35,240 - isce.Sensor.UAVSAR_Stack - INFO - UAVSAR_Stack: peg radius of curvature = 6375150.236995186\n",
      "2019-11-12 12:29:35,240 - isce.Sensor.UAVSAR_Stack - INFO - UAVSAR_Stack: terrain height = -24.9680101\n",
      "2019-11-12 12:29:35,241 - isce.Sensor.UAVSAR_Stack - INFO - key = Segment 1 Data Approximate Corner 1\n",
      "2019-11-12 12:29:35,241 - isce.Sensor.UAVSAR_Stack - INFO - metadata[key] = 29.583322525, -91.622039795\n",
      "2019-11-12 12:29:35,241 - isce.Sensor.UAVSAR_Stack - INFO - key = Segment 1 Data Approximate Corner 2\n",
      "2019-11-12 12:29:35,241 - isce.Sensor.UAVSAR_Stack - INFO - metadata[key] = 29.758239746, -91.509025574\n",
      "2019-11-12 12:29:35,241 - isce.Sensor.UAVSAR_Stack - INFO - key = Segment 1 Data Approximate Corner 3\n",
      "2019-11-12 12:29:35,241 - isce.Sensor.UAVSAR_Stack - INFO - metadata[key] = 29.356187820, -91.171157837\n",
      "2019-11-12 12:29:35,241 - isce.Sensor.UAVSAR_Stack - INFO - key = Segment 1 Data Approximate Corner 4\n",
      "2019-11-12 12:29:35,241 - isce.Sensor.UAVSAR_Stack - INFO - metadata[key] = 29.530677795, -91.057655334\n",
      "mv download/gulfco_12011_16089_011_161016_L090HH_01_BC_s1_1x1.slc /Users/cabrera/Documents/Projects/Deltax/Notebooks/SLC/20161016T1637\n",
      "mv download/gulfco_12011_16089_011_161016_L090HH_01_BC.ann /Users/cabrera/Documents/Projects/Deltax/Notebooks/SLC/20161016T1637\n",
      "Sensing Start Time: (2016-10-16 16:37:23)\n",
      "Sensing Mid Time: (2016-10-16 16:39:22.500000)\n",
      "Sensing Stop Time: (2016-10-16 16:41:22)\n",
      "Orbit Number: (None)\n",
      "Frame Number: (1)\n",
      "Track Number: (1)\n",
      "Number of Lines: (84111)\n",
      "Number of Samples: (9900)\n",
      "Starting Range: (13450.8804)\n",
      "Polarization: (HH)\n",
      "Processing Facility: (None)\n",
      "Processing Software: (None)\n",
      "Processing Software Version: (None)\n",
      "\n",
      "9900 84111\n"
     ]
    }
   ],
   "source": [
    "!prepareUAVSAR_coregStackTOmodifV2.py -i download/ -d gulfco_12011_01_BC.dop -o SLC"
   ]
  },
  {
   "cell_type": "code",
   "execution_count": 15,
   "metadata": {},
   "outputs": [
    {
     "name": "stdout",
     "output_type": "stream",
     "text": [
      "SLC/20161016T1408:\r\n",
      "data\r\n",
      "gulfco_12011_16089_001_161016_L090HH_01_BC.ann\r\n",
      "gulfco_12011_16089_001_161016_L090HH_01_BC_s1_1x1.slc\r\n",
      "gulfco_12011_16089_001_161016_L090HH_01_BC_s1_1x1.slc.vrt\r\n",
      "gulfco_12011_16089_001_161016_L090HH_01_BC_s1_1x1.slc.xml\r\n",
      "\r\n",
      "SLC/20161016T1637:\r\n",
      "data\r\n",
      "gulfco_12011_16089_011_161016_L090HH_01_BC.ann\r\n",
      "gulfco_12011_16089_011_161016_L090HH_01_BC_s1_1x1.slc\r\n",
      "gulfco_12011_16089_011_161016_L090HH_01_BC_s1_1x1.slc.vrt\r\n",
      "gulfco_12011_16089_011_161016_L090HH_01_BC_s1_1x1.slc.xml\r\n",
      "\r\n",
      "SLC/20161017T2151:\r\n",
      "data\r\n",
      "gulfco_12011_16090_011_161017_L090HH_01_BC.ann\r\n",
      "gulfco_12011_16090_011_161017_L090HH_01_BC_s1_1x1.slc\r\n",
      "gulfco_12011_16090_011_161017_L090HH_01_BC_s1_1x1.slc.vrt\r\n",
      "gulfco_12011_16090_011_161017_L090HH_01_BC_s1_1x1.slc.xml\r\n"
     ]
    }
   ],
   "source": [
    "!ls SLC/*          #We check the output "
   ]
  },
  {
   "cell_type": "markdown",
   "metadata": {},
   "source": [
    "We can plot the slc's using mdx as follows:"
   ]
  },
  {
   "cell_type": "code",
   "execution_count": 20,
   "metadata": {},
   "outputs": [
    {
     "name": "stdout",
     "output_type": "stream",
     "text": [
      "This is the Open Source version of ISCE.\n",
      "Some of the workflows depend on a separate licensed package.\n",
      "To obtain the licensed package, please make a request for ISCE\n",
      "through the website: https://download.jpl.nasa.gov/ops/request/index.cfm.\n",
      "Alternatively, if you are a member, or can become a member of WinSAR\n",
      "you may be able to obtain access to a version of the licensed sofware at\n",
      "https://winsar.unavco.org/software/isce\n",
      "Running: mdx -z -10 SLC/20161016T1408/gulfco_12011_16089_001_161016_L090HH_01_BC_s1_1x1.slc -c8 -s 9900 \n",
      "   \n",
      "    <<  mdx    Version  194.0 29-Mar-2013   >>   \n",
      "    <<  graphx Version   79.0               >>   \n",
      "   \n",
      " Opening file: SLC/20161016T1408/gulfco_12011_16089_001_161016_L090HH_01_BC\n",
      " Opening file: SLC/20161016T1408/gulfco_12011_16089_001_161016_L090HH_01_BC\n",
      " i_set=           2          10\n",
      " a_labl(i_wxi)=Close                                                                           \n",
      "Initializing X toolkit\n",
      " \n",
      "Using visual ID=34  size=256  bpc=8 depth=24 type=TrueColor\n",
      "Graphx initialization complete\n",
      "  \n",
      " Creating PPM File -- \n",
      "   Blocks remaining:         1000\n",
      " Print file complete\n",
      "  \n",
      "  \n",
      " mdx Done\n",
      "  \n"
     ]
    }
   ],
   "source": [
    "!mdx.py SLC/20161016T1408/gulfco_12011_16089_001_161016_L090HH_01_BC_s1_1x1.slc -z -10"
   ]
  },
  {
   "cell_type": "markdown",
   "metadata": {},
   "source": [
    "The plot should look like the following example: \n",
    "\n",
    "<p align=\"left\">\n",
    "  <img width=\"300\" src=\"img/slc.png\">\n",
    "</p>     \n",
    "<p style=\"text-align: center;\">\n",
    "    (Data search3)\n",
    "</p> "
   ]
  },
  {
   "cell_type": "markdown",
   "metadata": {},
   "source": [
    "# Interferogram generation #\n",
    "We can now compute the interferograms. We use crossmul_uavsar.py to generate the interferograms. This is a custom made code that calls isce tools to perform the crossmultiplication. Use option -h to see usage instructions. "
   ]
  },
  {
   "cell_type": "code",
   "execution_count": 6,
   "metadata": {},
   "outputs": [
    {
     "name": "stdout",
     "output_type": "stream",
     "text": [
      "This is the Open Source version of ISCE.\n",
      "Some of the workflows depend on a separate licensed package.\n",
      "To obtain the licensed package, please make a request for ISCE\n",
      "through the website: https://download.jpl.nasa.gov/ops/request/index.cfm.\n",
      "Alternatively, if you are a member, or can become a member of WinSAR\n",
      "you may be able to obtain access to a version of the licensed sofware at\n",
      "https://winsar.unavco.org/software/isce\n",
      "usage: crossmul_uavsar.py [-h] -s SLCDIR [-n NUMCONNECTIONS] [-o OUTDIR]\n",
      "                          [-a AZLOOKS] [-r RGLOOKS]\n",
      "\n",
      "Generate offset field between two Sentinel swaths\n",
      "\n",
      "optional arguments:\n",
      "  -h, --help            show this help message and exit\n",
      "  -s SLCDIR, --slc_dir SLCDIR\n",
      "                        Directory with all SLC subdirectories\n",
      "  -n NUMCONNECTIONS, --num_connections NUMCONNECTIONS\n",
      "                        Directory with all SLC subdirectories\n",
      "  -o OUTDIR, --outdir OUTDIR\n",
      "                        Prefix of output int and amp files\n",
      "  -a AZLOOKS, --alks AZLOOKS\n",
      "                        Azimuth looks\n",
      "  -r RGLOOKS, --rlks RGLOOKS\n",
      "                        Range looks\n"
     ]
    }
   ],
   "source": [
    "!python3 /usr/local/opt/isce/share/stripmapStack/crossmul_uavsar.py -h"
   ]
  },
  {
   "cell_type": "code",
   "execution_count": 1,
   "metadata": {},
   "outputs": [
    {
     "name": "stdout",
     "output_type": "stream",
     "text": [
      "This is the Open Source version of ISCE.\n",
      "Some of the workflows depend on a separate licensed package.\n",
      "To obtain the licensed package, please make a request for ISCE\n",
      "through the website: https://download.jpl.nasa.gov/ops/request/index.cfm.\n",
      "Alternatively, if you are a member, or can become a member of WinSAR\n",
      "you may be able to obtain access to a version of the licensed sofware at\n",
      "https://winsar.unavco.org/software/isce\n",
      "generating  crossmul/20161016T1408_20161016T1637/20161016T1408_20161016T1637\n",
      "GDAL open (R): /Users/cabrera/Documents/Projects/Deltax/Notebooks/SLC/20161016T1408/gulfco_12011_16089_001_161016_L090HH_01_BC_s1_1x1.slc.vrt\n",
      "GDAL open (R): /Users/cabrera/Documents/Projects/Deltax/Notebooks/SLC/20161016T1637/gulfco_12011_16089_011_161016_L090HH_01_BC_s1_1x1.slc.vrt\n",
      "API open (WR): crossmul/20161016T1408_20161016T1637/20161016T1408_20161016T1637.int\n",
      "API open (WR): crossmul/20161016T1408_20161016T1637/20161016T1408_20161016T1637.amp\n",
      "Completed set State\n",
      " Max threads used:           16\n",
      " FFT length:        16384\n",
      " wisdomFile, length =            0\n",
      " Overall:       84111       12288           7\n",
      "API close:  crossmul/20161016T1408_20161016T1637/20161016T1408_20161016T1637.int\n",
      "API close:  crossmul/20161016T1408_20161016T1637/20161016T1408_20161016T1637.amp\n",
      "API open (R): crossmul/20161016T1408_20161016T1637/20161016T1408_20161016T1637.int\n",
      "API close:  crossmul/20161016T1408_20161016T1637/20161016T1408_20161016T1637.int\n",
      "API open (R): crossmul/20161016T1408_20161016T1637/20161016T1408_20161016T1637.amp\n",
      "API close:  crossmul/20161016T1408_20161016T1637/20161016T1408_20161016T1637.amp\n",
      "GDAL close: /Users/cabrera/Documents/Projects/Deltax/Notebooks/SLC/20161016T1408/gulfco_12011_16089_001_161016_L090HH_01_BC_s1_1x1.slc.vrt\n",
      "GDAL close: /Users/cabrera/Documents/Projects/Deltax/Notebooks/SLC/20161016T1637/gulfco_12011_16089_011_161016_L090HH_01_BC_s1_1x1.slc.vrt\n",
      "estimate coherence\n",
      "GDAL open (R): crossmul/20161016T1408_20161016T1637/20161016T1408_20161016T1637.int.vrt\n",
      "API open (WR): crossmul/20161016T1408_20161016T1637/20161016T1408_20161016T1637.coh\n",
      "\n",
      " << PS filtering >>\n",
      "\n",
      "\n",
      " interferogram width:  3300  number of lines/patch:  3700\n",
      " start line:        1  number of lines:    7009\n",
      " start sample:      1  end sample:         3300\n",
      " wisdomFile, length =            0\n",
      "\n",
      " azimuth buffer size:                             3700\n",
      " overlap between azimuth patches:                  200\n",
      " total overlap between azimuth patches:            264\n",
      " offset in overlap region for phase  bootstrap:    132\n",
      " lines to increment for the next patch:           3436\n",
      " number of patches:                                  2\n",
      "\n",
      " PATCH:   1   starting line:     0    lines read: 3700\n",
      " starting output line:    1   ending output line: 3568\n",
      "\n",
      " PATCH:   2   starting line:  3436    lines read: 3573\n",
      " starting output line:  133   ending output line: 3573\n",
      "\n",
      "*** Normal Completion  ***\n",
      "\n",
      "GDAL close: crossmul/20161016T1408_20161016T1637/20161016T1408_20161016T1637.int.vrt\n",
      "API close:  crossmul/20161016T1408_20161016T1637/20161016T1408_20161016T1637.coh\n",
      "generating  crossmul/20161016T1637_20161017T2151/20161016T1637_20161017T2151\n",
      "GDAL open (R): /Users/cabrera/Documents/Projects/Deltax/Notebooks/SLC/20161016T1637/gulfco_12011_16089_011_161016_L090HH_01_BC_s1_1x1.slc.vrt\n",
      "GDAL open (R): /Users/cabrera/Documents/Projects/Deltax/Notebooks/SLC/20161017T2151/gulfco_12011_16090_011_161017_L090HH_01_BC_s1_1x1.slc.vrt\n",
      "API open (WR): crossmul/20161016T1637_20161017T2151/20161016T1637_20161017T2151.int\n",
      "API open (WR): crossmul/20161016T1637_20161017T2151/20161016T1637_20161017T2151.amp\n",
      "Completed set State\n",
      " Max threads used:           16\n",
      " FFT length:        16384\n",
      " Overall:       84111       12288           7\n",
      "API close:  crossmul/20161016T1637_20161017T2151/20161016T1637_20161017T2151.int\n",
      "API close:  crossmul/20161016T1637_20161017T2151/20161016T1637_20161017T2151.amp\n",
      "API open (R): crossmul/20161016T1637_20161017T2151/20161016T1637_20161017T2151.int\n",
      "API close:  crossmul/20161016T1637_20161017T2151/20161016T1637_20161017T2151.int\n",
      "API open (R): crossmul/20161016T1637_20161017T2151/20161016T1637_20161017T2151.amp\n",
      "API close:  crossmul/20161016T1637_20161017T2151/20161016T1637_20161017T2151.amp\n",
      "GDAL close: /Users/cabrera/Documents/Projects/Deltax/Notebooks/SLC/20161016T1637/gulfco_12011_16089_011_161016_L090HH_01_BC_s1_1x1.slc.vrt\n",
      "GDAL close: /Users/cabrera/Documents/Projects/Deltax/Notebooks/SLC/20161017T2151/gulfco_12011_16090_011_161017_L090HH_01_BC_s1_1x1.slc.vrt\n",
      "estimate coherence\n",
      "GDAL open (R): crossmul/20161016T1637_20161017T2151/20161016T1637_20161017T2151.int.vrt\n",
      "API open (WR): crossmul/20161016T1637_20161017T2151/20161016T1637_20161017T2151.coh\n",
      "\n",
      " << PS filtering >>\n",
      "\n",
      "\n",
      " interferogram width:  3300  number of lines/patch:  3700\n",
      " start line:        1  number of lines:    7009\n",
      " start sample:      1  end sample:         3300\n",
      "\n",
      " azimuth buffer size:                             3700\n",
      " overlap between azimuth patches:                  200\n",
      " total overlap between azimuth patches:            264\n",
      " offset in overlap region for phase  bootstrap:    132\n",
      " lines to increment for the next patch:           3436\n",
      " number of patches:                                  2\n",
      "\n",
      " PATCH:   1   starting line:     0    lines read: 3700\n",
      " starting output line:    1   ending output line: 3568\n",
      "\n",
      " PATCH:   2   starting line:  3436    lines read: 3573\n",
      " starting output line:  133   ending output line: 3573\n",
      "\n",
      "*** Normal Completion  ***\n",
      "\n",
      "GDAL close: crossmul/20161016T1637_20161017T2151/20161016T1637_20161017T2151.int.vrt\n",
      "API close:  crossmul/20161016T1637_20161017T2151/20161016T1637_20161017T2151.coh\n"
     ]
    }
   ],
   "source": [
    "!python3 /usr/local/opt/isce/share/stripmapStack/crossmul_uavsar.py -s SLC/ -a 12 -r 3"
   ]
  },
  {
   "cell_type": "markdown",
   "metadata": {},
   "source": [
    "Now we go to the crossmul folder to see the results."
   ]
  },
  {
   "cell_type": "code",
   "execution_count": 2,
   "metadata": {},
   "outputs": [
    {
     "name": "stdout",
     "output_type": "stream",
     "text": [
      "crossmul/20161016T1408_20161016T1637:\r\n",
      "20161016T1408_20161016T1637.amp     20161016T1408_20161016T1637.coh.xml\r\n",
      "20161016T1408_20161016T1637.amp.vrt 20161016T1408_20161016T1637.int\r\n",
      "20161016T1408_20161016T1637.amp.xml 20161016T1408_20161016T1637.int.vrt\r\n",
      "20161016T1408_20161016T1637.coh     20161016T1408_20161016T1637.int.xml\r\n",
      "20161016T1408_20161016T1637.coh.vrt\r\n",
      "\r\n",
      "crossmul/20161016T1637_20161017T2151:\r\n",
      "20161016T1637_20161017T2151.amp     20161016T1637_20161017T2151.coh.xml\r\n",
      "20161016T1637_20161017T2151.amp.vrt 20161016T1637_20161017T2151.int\r\n",
      "20161016T1637_20161017T2151.amp.xml 20161016T1637_20161017T2151.int.vrt\r\n",
      "20161016T1637_20161017T2151.coh     20161016T1637_20161017T2151.int.xml\r\n",
      "20161016T1637_20161017T2151.coh.vrt\r\n"
     ]
    }
   ],
   "source": [
    "!ls crossmul/*"
   ]
  },
  {
   "cell_type": "markdown",
   "metadata": {},
   "source": [
    "We can use mdx,py the same way we did before but now to plot the interferograms. "
   ]
  },
  {
   "cell_type": "code",
   "execution_count": 11,
   "metadata": {},
   "outputs": [
    {
     "name": "stdout",
     "output_type": "stream",
     "text": [
      "This is the Open Source version of ISCE.\n",
      "Some of the workflows depend on a separate licensed package.\n",
      "To obtain the licensed package, please make a request for ISCE\n",
      "through the website: https://download.jpl.nasa.gov/ops/request/index.cfm.\n",
      "Alternatively, if you are a member, or can become a member of WinSAR\n",
      "you may be able to obtain access to a version of the licensed sofware at\n",
      "https://winsar.unavco.org/software/isce\n",
      "Running: mdx -z -10 crossmul/20161016T1408_20161016T1637/20161016T1408_20161016T1637.int -c8 -s 3300  crossmul/20161016T1637_20161017T2151/20161016T1637_20161017T2151.int -c8 -s 3300 \n",
      "   \n",
      "    <<  mdx    Version  194.0 29-Mar-2013   >>   \n",
      "    <<  graphx Version   79.0               >>   \n",
      "   \n",
      " Opening file: crossmul/20161016T1408_20161016T1637/20161016T1408_20161016T\n",
      " Opening file: crossmul/20161016T1408_20161016T1637/20161016T1408_20161016T\n",
      " Opening file: crossmul/20161016T1637_20161017T2151/20161016T1637_20161017T\n",
      " Opening file: crossmul/20161016T1637_20161017T2151/20161016T1637_20161017T\n",
      " i_set=           4          10\n",
      " a_labl(i_wxi)=Close                                                                           \n",
      "Initializing X toolkit\n",
      " \n",
      "Using visual ID=34  size=256  bpc=8 depth=24 type=TrueColor\n",
      "Graphx initialization complete\n",
      "  \n",
      " mdx Done\n",
      "  \n"
     ]
    }
   ],
   "source": [
    "!mdx.py crossmul/20161016T1*/*int -z -10"
   ]
  },
  {
   "cell_type": "markdown",
   "metadata": {},
   "source": [
    "The plot will be together in one window, we can select which layer to see by clicking on the buttons \"Mag\" and \"Pha\" to visualize the layers separately. See example below: \n",
    "\n",
    "<p align=\"left\">\n",
    "  <img width=\"600\" src=\"img/ifgs.png\">\n",
    "</p>     \n",
    "<p style=\"text-align: center;\">\n",
    "    (Ifg results)\n",
    "</p> "
   ]
  },
  {
   "cell_type": "markdown",
   "metadata": {},
   "source": [
    "# Unwrapping #\n",
    "\n",
    "In this step we perform the phase unwrapping step, we use snaphu however ICU can also be used. "
   ]
  },
  {
   "cell_type": "code",
   "execution_count": 16,
   "metadata": {},
   "outputs": [
    {
     "name": "stdout",
     "output_type": "stream",
     "text": [
      "This is the Open Source version of ISCE.\n",
      "Some of the workflows depend on a separate licensed package.\n",
      "To obtain the licensed package, please make a request for ISCE\n",
      "through the website: https://download.jpl.nasa.gov/ops/request/index.cfm.\n",
      "Alternatively, if you are a member, or can become a member of WinSAR\n",
      "you may be able to obtain access to a version of the licensed sofware at\n",
      "https://winsar.unavco.org/software/isce\n",
      "snaphu\n",
      "crossmul/20161016T1408_20161016T1637/masterShelve/data\n",
      "unwrapping method :  snaphu\n",
      "\n",
      "snaphu v1.4.2\n",
      "Reading wrapped phase from file crossmul/20161016T1408_20161016T1637/20161016T1408_20161016T1637.int\n",
      "No weight file specified.  Assuming uniform weights\n",
      "Reading correlation data from file crossmul/20161016T1408_20161016T1637/20161016T1408_20161016T1637.coh\n",
      "Calculating smooth-solution cost parameters\n",
      "Initializing flows with MCF algorithm\n",
      "Integrating phase\n",
      "Writing output to file crossmul/20161016T1408_20161016T1637/20161016T1408_20161016T1637.unw_snaphu.unw\n",
      "Growing connected components on second pass\n",
      "\n",
      "snaphu v1.4.2\n",
      "Reading unwrapped phase from file crossmul/20161016T1408_20161016T1637/20161016T1408_20161016T1637.unw_snaphu.unw\n",
      "No weight file specified.  Assuming uniform weights\n",
      "Reading correlation data from file crossmul/20161016T1408_20161016T1637/20161016T1408_20161016T1637.coh\n",
      "Calculating smooth-solution cost parameters\n",
      "Growing connected component mask\n",
      "Writing connected components to file crossmul/20161016T1408_20161016T1637/20161016T1408_20161016T1637.unw_snaphu.unw.conncomp\n",
      "This is the Open Source version of ISCE.\n",
      "Some of the workflows depend on a separate licensed package.\n",
      "To obtain the licensed package, please make a request for ISCE\n",
      "through the website: https://download.jpl.nasa.gov/ops/request/index.cfm.\n",
      "Alternatively, if you are a member, or can become a member of WinSAR\n",
      "you may be able to obtain access to a version of the licensed sofware at\n",
      "https://winsar.unavco.org/software/isce\n",
      "snaphu\n",
      "crossmul/20161016T1637_20161017T2151/masterShelve/data\n",
      "unwrapping method :  snaphu\n",
      "\n",
      "snaphu v1.4.2\n",
      "Reading wrapped phase from file crossmul/20161016T1637_20161017T2151/20161016T1637_20161017T2151.int\n",
      "No weight file specified.  Assuming uniform weights\n",
      "Reading correlation data from file crossmul/20161016T1637_20161017T2151/20161016T1637_20161017T2151.coh\n",
      "Calculating smooth-solution cost parameters\n",
      "Initializing flows with MCF algorithm\n",
      "Integrating phase\n",
      "Writing output to file crossmul/20161016T1637_20161017T2151/20161016T1637_20161017T2151.unw_snaphu.unw\n",
      "Growing connected components on second pass\n",
      "\n",
      "snaphu v1.4.2\n",
      "Reading unwrapped phase from file crossmul/20161016T1637_20161017T2151/20161016T1637_20161017T2151.unw_snaphu.unw\n",
      "No weight file specified.  Assuming uniform weights\n",
      "Reading correlation data from file crossmul/20161016T1637_20161017T2151/20161016T1637_20161017T2151.coh\n",
      "Calculating smooth-solution cost parameters\n",
      "Growing connected component mask\n",
      "Writing connected components to file crossmul/20161016T1637_20161017T2151/20161016T1637_20161017T2151.unw_snaphu.unw.conncomp\n"
     ]
    }
   ],
   "source": [
    "!ls crossmul/ | awk -F \"/\" '{print $1}' >> datelist.txt\n",
    "!awk -F \"_\" '{print \"unwrap.py -i crossmul/\"$1\"_\"$2\"/\"$1\"_\"$2\".int -u crossmul/\"$1\"_\"$2\"/\"$1\"_\"$2\".unw -c crossmul/\"$1\"_\"$2\"/\"$1\"_\"$2\".coh -a 12 -r 3 -s SLC/\"$1\"/ -m snaphu\"}' datelist.txt >> unwall.sh\n",
    "!sh unwall.sh"
   ]
  },
  {
   "cell_type": "code",
   "execution_count": 17,
   "metadata": {},
   "outputs": [
    {
     "name": "stdout",
     "output_type": "stream",
     "text": [
      "crossmul/20161016T1408_20161016T1637:\r\n",
      "20161016T1408_20161016T1637.amp\r\n",
      "20161016T1408_20161016T1637.amp.vrt\r\n",
      "20161016T1408_20161016T1637.amp.xml\r\n",
      "20161016T1408_20161016T1637.coh\r\n",
      "20161016T1408_20161016T1637.coh.vrt\r\n",
      "20161016T1408_20161016T1637.coh.xml\r\n",
      "20161016T1408_20161016T1637.int\r\n",
      "20161016T1408_20161016T1637.int.vrt\r\n",
      "20161016T1408_20161016T1637.int.xml\r\n",
      "20161016T1408_20161016T1637.unw_snaphu.unw\r\n",
      "20161016T1408_20161016T1637.unw_snaphu.unw.conncomp\r\n",
      "20161016T1408_20161016T1637.unw_snaphu.unw.conncomp.vrt\r\n",
      "20161016T1408_20161016T1637.unw_snaphu.unw.conncomp.xml\r\n",
      "20161016T1408_20161016T1637.unw_snaphu.unw.vrt\r\n",
      "20161016T1408_20161016T1637.unw_snaphu.unw.xml\r\n",
      "\u001b[34mmasterShelve\u001b[m\u001b[m\r\n",
      "\r\n",
      "crossmul/20161016T1637_20161017T2151:\r\n",
      "20161016T1637_20161017T2151.amp\r\n",
      "20161016T1637_20161017T2151.amp.vrt\r\n",
      "20161016T1637_20161017T2151.amp.xml\r\n",
      "20161016T1637_20161017T2151.coh\r\n",
      "20161016T1637_20161017T2151.coh.vrt\r\n",
      "20161016T1637_20161017T2151.coh.xml\r\n",
      "20161016T1637_20161017T2151.int\r\n",
      "20161016T1637_20161017T2151.int.vrt\r\n",
      "20161016T1637_20161017T2151.int.xml\r\n",
      "20161016T1637_20161017T2151.unw_snaphu.unw\r\n",
      "20161016T1637_20161017T2151.unw_snaphu.unw.conncomp\r\n",
      "20161016T1637_20161017T2151.unw_snaphu.unw.conncomp.vrt\r\n",
      "20161016T1637_20161017T2151.unw_snaphu.unw.conncomp.xml\r\n",
      "20161016T1637_20161017T2151.unw_snaphu.unw.vrt\r\n",
      "20161016T1637_20161017T2151.unw_snaphu.unw.xml\r\n",
      "\u001b[34mmasterShelve\u001b[m\u001b[m\r\n"
     ]
    }
   ],
   "source": [
    "!ls crossmul/*   #We check the output"
   ]
  },
  {
   "cell_type": "code",
   "execution_count": null,
   "metadata": {},
   "outputs": [],
   "source": []
  }
 ],
 "metadata": {
  "kernelspec": {
   "display_name": "Python 3",
   "language": "python",
   "name": "python3"
  },
  "language_info": {
   "codemirror_mode": {
    "name": "ipython",
    "version": 3
   },
   "file_extension": ".py",
   "mimetype": "text/x-python",
   "name": "python",
   "nbconvert_exporter": "python",
   "pygments_lexer": "ipython3",
   "version": "3.7.4"
  }
 },
 "nbformat": 4,
 "nbformat_minor": 2
}
